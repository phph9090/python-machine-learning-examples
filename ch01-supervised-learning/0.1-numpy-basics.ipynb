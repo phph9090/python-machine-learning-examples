{
 "nbformat": 4,
 "nbformat_minor": 2,
 "metadata": {
  "language_info": {
   "name": "python",
   "codemirror_mode": {
    "name": "ipython",
    "version": 3
   },
   "version": "3.7.0-final"
  },
  "orig_nbformat": 2,
  "file_extension": ".py",
  "mimetype": "text/x-python",
  "name": "python",
  "npconvert_exporter": "python",
  "pygments_lexer": "ipython3",
  "version": 3,
  "kernelspec": {
   "name": "python37064bitb25ed0881bcf4453bea0dc9a3c2dfe73",
   "display_name": "Python 3.7.0 64-bit"
  }
 },
 "cells": [
  {
   "cell_type": "code",
   "execution_count": 6,
   "metadata": {},
   "outputs": [
    {
     "name": "stdout",
     "output_type": "stream",
     "text": "[ 0  1  2  3  4  5  6  7  8  9 10 11 12 13 14]\n"
    }
   ],
   "source": [
    "# NumPy提供了两种基本的对象：ndarray和ufunc\n",
    "# ndarray是存储单一数据类型的多维数组\n",
    "# ufunc则是能够对数据进行处理的函数\n",
    "\n",
    "import numpy as np\n",
    "\n",
    "# 使用python数据结构来初始化ndarray\n",
    "a = np.array([1, 2, 3, 4])      # 列表\n",
    "b = np.array((5, 6, 7, 8))      # 元祖\n",
    "c = np.array([[1, 2, 3, 4], [4, 5, 6, 7], [7, 8, 9, 10]])       # 二维列表\n",
    "d = np.array(15)\n",
    "print(\"a=\", a)\n",
    "print(\"b=\", b)\n",
    "print(\"c=\", c)\n",
    "print(\"c.shape=\", c.shape)\n",
    "print(\"d=\", d)"
   ]
  },
  {
   "cell_type": "code",
   "execution_count": 10,
   "metadata": {},
   "outputs": [
    {
     "name": "stdout",
     "output_type": "stream",
     "text": "c= [[ 1  2  3]\n [ 4  4  5]\n [ 6  7  7]\n [ 8  9 10]]\n"
    }
   ],
   "source": [
    "# 直接更改数组的shape，将3x4的数组改为4x3，并不是对数组进行转置\n",
    "# 而只是改变每个轴的大小，因为元素在内存中的位置没有发生改变\n",
    "# 这种方式不会产生新的数组\n",
    "c.shape = 4,3\n",
    "print(\"c=\", c)"
   ]
  },
  {
   "cell_type": "code",
   "execution_count": 11,
   "metadata": {},
   "outputs": [
    {
     "name": "stdout",
     "output_type": "stream",
     "text": "data= [[ 0  1  2  3  4]\n [ 5  6  7  8  9]\n [10 11 12 13 14]]\nd= [[ 0  1  2  3  4]\n [ 5  6  7  8  9]\n [10 11 12 13 14]]\ndata= [[  0   1   2   3   4]\n [100 100 100 100 100]\n [ 10  11  12  13  14]]\n"
    }
   ],
   "source": [
    "# 进行维度转换\n",
    "# data.reshape(rows, cols)，转换成rows行，cols列\n",
    "# -1 表是默认计算，reshape(3, -1)表示三行，列数自动计算\n",
    "# reshape(-1, 5)，表示5列，行数自动计算\n",
    "# 这种方式将返回一个改变了shape的新数组，原数组的大小保持不变\n",
    "data = d.reshape(3, 5)\n",
    "print(\"data=\", data)\n",
    "print(\"d=\", data)\n",
    "\n",
    "# d与data共享数据存储的内存区域，因此改变其中一个的值，另外一个数组也会被修改\n",
    "d[1] = 100      # 将第一行的数据全部设置成100\n",
    "print(\"data=\", data)"
   ]
  },
  {
   "cell_type": "code",
   "execution_count": 12,
   "metadata": {},
   "outputs": [
    {
     "name": "stdout",
     "output_type": "stream",
     "text": "d.dtype= int64\n"
    },
    {
     "data": {
      "text/plain": "array([[ 1.,  2.,  3.,  4.],\n       [ 4.,  5.,  6.,  7.],\n       [ 7.,  8.,  9., 10.]])"
     },
     "execution_count": 12,
     "metadata": {},
     "output_type": "execute_result"
    }
   ],
   "source": [
    "# 数据类型\n",
    "print(\"d.dtype=\", d.dtype)\n",
    "\n",
    "# 新建数组是指定数据类型\n",
    "np.array([[1, 2, 3, 4], [4, 5, 6, 7], [7, 8, 9, 10]], dtype=np.float)"
   ]
  },
  {
   "cell_type": "code",
   "execution_count": 13,
   "metadata": {},
   "outputs": [
    {
     "data": {
      "text/plain": "array([0. , 0.1, 0.2, 0.3, 0.4, 0.5, 0.6, 0.7, 0.8, 0.9])"
     },
     "execution_count": 13,
     "metadata": {},
     "output_type": "execute_result"
    }
   ],
   "source": [
    "# 利用arange方法创建数组\n",
    "# 指定开始值，结束值，与步长来创建一维数组（不包含结束值）\n",
    "np.arange(0, 1, 0.1)"
   ]
  },
  {
   "cell_type": "code",
   "execution_count": 15,
   "metadata": {},
   "outputs": [
    {
     "name": "stdout",
     "output_type": "stream",
     "text": "[0.    0.125 0.25  0.375 0.5   0.625 0.75  0.875 1.   ]\n[0.         0.11111111 0.22222222 0.33333333 0.44444444 0.55555556\n 0.66666667 0.77777778 0.88888889]\n"
    }
   ],
   "source": [
    "# linspace\n",
    "# 指定开始值，结束值，元素个数\n",
    "print(np.linspace(0, 1, 9))\n",
    "\n",
    "# 不包含结束值\n",
    "print(np.linspace(0, 1, 9, endpoint=False))"
   ]
  },
  {
   "cell_type": "code",
   "execution_count": 16,
   "metadata": {},
   "outputs": [
    {
     "data": {
      "text/plain": "array([  1.        ,   1.77827941,   3.16227766,   5.62341325,\n        10.        ,  17.7827941 ,  31.6227766 ,  56.23413252,\n       100.        ])"
     },
     "execution_count": 16,
     "metadata": {},
     "output_type": "execute_result"
    }
   ],
   "source": [
    "# logspace\n",
    "# 与linspace类似，不过创建的是等比数列\n",
    "# 下面的例子会生成10^0到10^2之间包含9个元素的等比数列\n",
    "np.logspace(0, 2, 9)"
   ]
  },
  {
   "cell_type": "code",
   "execution_count": 19,
   "metadata": {},
   "outputs": [
    {
     "data": {
      "text/plain": "array([ 97,  98,  99, 100, 101, 102, 103, 104, 105, 106, 107, 108, 109,\n       110], dtype=int8)"
     },
     "execution_count": 19,
     "metadata": {},
     "output_type": "execute_result"
    }
   ],
   "source": [
    "# 从字节序列创建数组\n",
    "s = \"abcdefghijklmn\"\n",
    "np.frombuffer(s.encode(), dtype=np.int8)\n"
   ]
  },
  {
   "cell_type": "code",
   "execution_count": 6,
   "metadata": {},
   "outputs": [],
   "source": [
    "\n",
    "\n",
    "# 生成一个4x4的随机数组\n",
    "np.random.rand(4,4)\n",
    "\n",
    "# numpy中包含两种数据类型，矩阵与数组（matrix和array），他们都可以用来处理行列表示的数字元素\n",
    "# 虽然他们看起来很相似，不过对他们进行相同的数学运算可能会产生不同的结果\n",
    "# 其中numpy中的matrix与MATLAB中的matrices等价\n",
    "# 下面是将随机数组转换成一个矩阵\n",
    "randMat = np.mat(np.random.rand(4,4))"
   ]
  },
  {
   "cell_type": "code",
   "execution_count": 7,
   "metadata": {},
   "outputs": [
    {
     "data": {
      "text/plain": "matrix([[ 0.00000000e+00, -5.55111512e-17, -2.22044605e-16,\n          2.77555756e-17],\n        [-5.55111512e-17, -1.11022302e-16, -5.55111512e-17,\n         -1.11022302e-16],\n        [-1.59594560e-16,  0.00000000e+00,  0.00000000e+00,\n         -1.66533454e-16],\n        [ 1.11022302e-16,  1.11022302e-16,  1.11022302e-16,\n          2.22044605e-16]])"
     },
     "execution_count": 7,
     "metadata": {},
     "output_type": "execute_result"
    }
   ],
   "source": [
    "# 矩阵的一些运算\n",
    "\n",
    "# 求反\n",
    "invRandMat = randMat.I\n",
    "\n",
    "# 矩阵乘法\n",
    "myEye = invRandMat * randMat\n",
    "\n",
    "# 上面得到的结果应该是一个单位矩阵，除了对角线元素是１，4x4矩阵的其他元素应该全是０\n",
    "# 矩阵上面还留下一些非常小的元素，这是计算机处理误差产生的结果\n",
    "# 下面语句得到误差值\n",
    "myEye - np.eye(4)"
   ]
  }
 ]
}