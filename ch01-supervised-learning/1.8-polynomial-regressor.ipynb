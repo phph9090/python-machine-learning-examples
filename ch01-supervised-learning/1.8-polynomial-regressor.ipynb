{
 "nbformat": 4,
 "nbformat_minor": 2,
 "metadata": {
  "language_info": {
   "name": "python",
   "codemirror_mode": {
    "name": "ipython",
    "version": 3
   },
   "version": "3.7.0-final"
  },
  "orig_nbformat": 2,
  "file_extension": ".py",
  "mimetype": "text/x-python",
  "name": "python",
  "npconvert_exporter": "python",
  "pygments_lexer": "ipython3",
  "version": 3,
  "kernelspec": {
   "name": "python37064bitb25ed0881bcf4453bea0dc9a3c2dfe73",
   "display_name": "Python 3.7.0 64-bit"
  }
 },
 "cells": [
  {
   "cell_type": "code",
   "execution_count": 1,
   "metadata": {},
   "outputs": [],
   "source": [
    "# 对于线性回归来说，有一个缺陷，就是它只能把输入数据你合成直线，而多项式回归模式通过拟合多项式方程式来客服这个问题\n",
    "# 多项式模型的曲率是有多项式的次数决定的，随着曲率的增加，模型变得更准确\n",
    "# 但是曲率增加的同时也增加了模型的复杂性，因此拟合速度会变慢\n",
    "\n",
    "import numpy as np\n",
    "\n",
    "\n",
    "with open('data_multivar.txt', 'r') as f:\n",
    "    lines = f.readlines()\n",
    "\n",
    "X = []\n",
    "y = []\n",
    "\n",
    "for line in lines:\n",
    "    data = [float(i) for i in line.split(',')]\n",
    "    X.append(data[:-1])\n",
    "    y.append(data[-1])\n",
    "\n",
    "num_training = int(0.8 * len(X))\n",
    "num_test = len(X) - num_training\n",
    "\n",
    "X_train = np.array(X[:num_training])\n",
    "y_train = np.array(y[:num_training])\n",
    "\n",
    "X_test = np.array(X[num_training:])\n",
    "y_test = np.array(y[num_training:])"
   ]
  },
  {
   "cell_type": "code",
   "execution_count": 4,
   "metadata": {},
   "outputs": [
    {
     "name": "stdout",
     "output_type": "stream",
     "text": "Linear regression: -11.058729498335893\nPolynomial regression: -10.948078212166784\n"
    }
   ],
   "source": [
    "# X_train_transformed 表示多项式形式的输入，与线性回归模型是一样大的\n",
    "\n",
    "from sklearn.preprocessing import PolynomialFeatures\n",
    "from sklearn import linear_model\n",
    "\n",
    "polynomial = PolynomialFeatures(degree=3)\n",
    "\n",
    "X_train_transformed = polynomial.fit_transform(X_train)\n",
    "\n",
    "# 用文件中第一个数据点来检查多项式模型能否准确预测\n",
    "\n",
    "datapoint = np.array([[0.39,2.78,7.11]])\n",
    "poly_datapoint = polynomial.fit_transform(datapoint)\n",
    "\n",
    "poly_linear_model = linear_model.LinearRegression()\n",
    "poly_linear_model.fit(X_train_transformed, y_train)\n",
    "\n",
    "linear_regressor = linear_model.LinearRegression()\n",
    "linear_regressor.fit(X_train, y_train)\n",
    "\n",
    "print(\"Linear regression:\", linear_regressor.predict(datapoint)[0])\n",
    "print(\"Polynomial regression:\", poly_linear_model.predict(poly_datapoint)[0])"
   ]
  }
 ]
}