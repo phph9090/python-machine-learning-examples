{
 "nbformat": 4,
 "nbformat_minor": 2,
 "metadata": {
  "language_info": {
   "name": "python",
   "codemirror_mode": {
    "name": "ipython",
    "version": 3
   },
   "version": "3.7.0-final"
  },
  "orig_nbformat": 2,
  "file_extension": ".py",
  "mimetype": "text/x-python",
  "name": "python",
  "npconvert_exporter": "python",
  "pygments_lexer": "ipython3",
  "version": 3,
  "kernelspec": {
   "name": "python3",
   "display_name": "Python 3"
  }
 },
 "cells": [
  {
   "cell_type": "code",
   "execution_count": 2,
   "metadata": {},
   "outputs": [],
   "source": [
    "import numpy as np\n",
    "from sklearn import preprocessing"
   ]
  },
  {
   "cell_type": "code",
   "execution_count": 4,
   "metadata": {},
   "outputs": [],
   "source": [
    "# 测试数据\n",
    "data = np.array([[3, -1.5, 2.0, -5.4], [0.0, 4.0, -0.3, 2.1], [1.0, 3.3, -1.9, -4.3]], dtype=np.float)"
   ]
  },
  {
   "cell_type": "code",
   "execution_count": 5,
   "metadata": {},
   "outputs": [
    {
     "name": "stdout",
     "output_type": "stream",
     "text": "\nMean = [ 5.55111512e-17 -1.11022302e-16 -7.40148683e-17 -7.40148683e-17]\nStd deviation = [1. 1. 1. 1.]\n"
    }
   ],
   "source": [
    "# 1. 均值移除 (Mean Removal)\n",
    "# 一般都会把每个特征的平均值移除，保证特征均值为0，也就是标准化处理\n",
    "data_standardized = preprocessing.scale(data)\n",
    "print(\"\\nMean = {}\".format(data_standardized.mean(axis=0)))\n",
    "print(\"Std deviation = {}\".format(data_standardized.std(axis=0)))"
   ]
  },
  {
   "cell_type": "code",
   "execution_count": 9,
   "metadata": {},
   "outputs": [
    {
     "name": "stdout",
     "output_type": "stream",
     "text": "\nMin max scaled data =  [[1.         0.         1.         0.        ]\n [0.         1.         0.41025641 1.        ]\n [0.33333333 0.87272727 0.         0.14666667]]\n"
    }
   ],
   "source": [
    "# 2. 范围缩放 (Scaling)\n",
    "# 有的时候数据点中每个特征的数值的范围可能变化很大，因此，需要将特征的数字范围缩放到合理的大小\n",
    "data_scaler = preprocessing.MinMaxScaler(feature_range=(0, 1))\n",
    "data_scaled = data_scaler.fit_transform(data)\n",
    "print(\"\\nMin max scaled data = \", data_scaled)"
   ]
  },
  {
   "cell_type": "code",
   "execution_count": 10,
   "metadata": {},
   "outputs": [
    {
     "name": "stdout",
     "output_type": "stream",
     "text": "\nL1 normalized data =  [[ 0.25210084 -0.12605042  0.16806723 -0.45378151]\n [ 0.          0.625      -0.046875    0.328125  ]\n [ 0.0952381   0.31428571 -0.18095238 -0.40952381]]\n"
    }
   ],
   "source": [
    "# 3. 归一化 (Normalization)\n",
    "# 数据归一化用于需要对特征向量进行调整时，以保证每个特征向量的值都缩放到相同的数值范围内\n",
    "# 这个方法经常用于确保数据点没有因为特征的基本性质而产生较大差异，即确保数据处于同一数量级，提高不同特征数据的可比性\n",
    "data_normalized = preprocessing.normalize(data, norm='l1')\n",
    "print(\"\\nL1 normalized data = \", data_normalized)"
   ]
  },
  {
   "cell_type": "code",
   "execution_count": null,
   "metadata": {},
   "outputs": [],
   "source": [
    "# 4. 二值化 (Binarization)\n",
    "# 二值化用于将数值特征向量转换为布尔类型的向量\n",
    "data_binarized = preprocessing.Binarizer(threshold=1.4).transform(data)\n",
    "print(\"\\nBinarized data=\", data_binarized)"
   ]
  },
  {
   "cell_type": "code",
   "execution_count": 3,
   "metadata": {},
   "outputs": [
    {
     "name": "stdout",
     "output_type": "stream",
     "text": "\nEncoded vector = [[0. 0. 1. 0. 1. 0. 0. 0. 1. 1. 0.]]\n"
    }
   ],
   "source": [
    "# 5. 独热编码 (One-Hot Encoding)\n",
    "# 通常，需要处理的数值都是稀疏地、散乱地分布在空间中，然而，我们并不需要存储这些大数值，这是就需要使用独热编码\n",
    "# 可以把独热编码看作是一种收紧特征向量的工具。\n",
    "encoder = preprocessing.OneHotEncoder()\n",
    "encoder.fit([[0, 2, 1, 12], [1, 3, 5, 3], [2, 3, 2, 12], [1, 2, 4, 3]])\n",
    "encoded_vector = encoder.transform([[2, 3, 5, 3]]).toarray()\n",
    "print(\"\\nEncoded vector =\", encoded_vector)"
   ]
  }
 ]
}