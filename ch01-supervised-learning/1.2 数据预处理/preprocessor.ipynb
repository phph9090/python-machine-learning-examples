{
 "nbformat": 4,
 "nbformat_minor": 2,
 "metadata": {
  "language_info": {
   "name": "python",
   "codemirror_mode": {
    "name": "ipython",
    "version": 3
   },
   "version": "3.7.0-final"
  },
  "orig_nbformat": 2,
  "file_extension": ".py",
  "mimetype": "text/x-python",
  "name": "python",
  "npconvert_exporter": "python",
  "pygments_lexer": "ipython3",
  "version": 3,
  "kernelspec": {
   "name": "python3",
   "display_name": "Python 3"
  }
 },
 "cells": [
  {
   "cell_type": "code",
   "execution_count": 3,
   "metadata": {},
   "outputs": [],
   "source": [
    "import numpy as np\n",
    "from sklearn import preprocessing"
   ]
  },
  {
   "cell_type": "code",
   "execution_count": 4,
   "metadata": {},
   "outputs": [],
   "source": [
    "# 测试数据\n",
    "data = np.array([[3, -1.5, 2.0, -5.4], [0.0, 4.0, -0.3, 2.1], [1.0, 3.3, -1.9, -4.3]], dtype=np.float)"
   ]
  },
  {
   "cell_type": "code",
   "execution_count": 5,
   "metadata": {},
   "outputs": [
    {
     "name": "stdout",
     "output_type": "stream",
     "text": "\nMean = [ 5.55111512e-17 -1.11022302e-16 -7.40148683e-17 -7.40148683e-17]\nStd deviation = [1. 1. 1. 1.]\n"
    }
   ],
   "source": [
    "# 1. 均值移除\n",
    "# 一般都会把每个特征的平均值移除，保证特征均值为0，也就是标准化处理\n",
    "data_standardized = preprocessing.scale(data)\n",
    "print(\"\\nMean = {}\".format(data_standardized.mean(axis=0)))\n",
    "print(\"Std deviation = {}\".format(data_standardized.std(axis=0)))"
   ]
  },
  {
   "cell_type": "code",
   "execution_count": 9,
   "metadata": {},
   "outputs": [
    {
     "name": "stdout",
     "output_type": "stream",
     "text": "\nMin max scaled data =  [[1.         0.         1.         0.        ]\n [0.         1.         0.41025641 1.        ]\n [0.33333333 0.87272727 0.         0.14666667]]\n"
    }
   ],
   "source": [
    "# 2. 范围缩放\n",
    "# 有的时候数据点中每个特征的数值的范围可能变化很大，因此，需要将特征的数字范围缩放到合理的大小\n",
    "data_scaler = preprocessing.MinMaxScaler(feature_range=(0, 1))\n",
    "data_scaled = data_scaler.fit_transform(data)\n",
    "print(\"\\nMin max scaled data = \", data_scaled)"
   ]
  },
  {
   "cell_type": "code",
   "execution_count": 10,
   "metadata": {},
   "outputs": [
    {
     "name": "stdout",
     "output_type": "stream",
     "text": "\nL1 normalized data =  [[ 0.25210084 -0.12605042  0.16806723 -0.45378151]\n [ 0.          0.625      -0.046875    0.328125  ]\n [ 0.0952381   0.31428571 -0.18095238 -0.40952381]]\n"
    }
   ],
   "source": [
    "# 3. 归一化\n",
    "# 数据归一化用于需要对特征向量进行调整时，以保证每个特征向量的值都缩放到相同的数值范围内\n",
    "# 这个方法经常用于确保数据点没有因为特征的基本性质而产生较大差异，即确保数据处于同一数量级，提高不同特征数据的可比性\n",
    "data_normalized = preprocessing.normalize(data, norm='l1')\n",
    "print(\"\\nL1 normalized data = \", data_normalized)"
   ]
  },
  {
   "cell_type": "code",
   "execution_count": null,
   "metadata": {},
   "outputs": [],
   "source": []
  }
 ]
}