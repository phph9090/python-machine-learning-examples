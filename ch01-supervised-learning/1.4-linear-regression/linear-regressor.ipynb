{
 "nbformat": 4,
 "nbformat_minor": 2,
 "metadata": {
  "language_info": {
   "name": "python",
   "codemirror_mode": {
    "name": "ipython",
    "version": 3
   },
   "version": "3.7.0-final"
  },
  "orig_nbformat": 2,
  "file_extension": ".py",
  "mimetype": "text/x-python",
  "name": "python",
  "npconvert_exporter": "python",
  "pygments_lexer": "ipython3",
  "version": 3,
  "kernelspec": {
   "name": "python3",
   "display_name": "Python 3"
  }
 },
 "cells": [
  {
   "cell_type": "code",
   "execution_count": 2,
   "metadata": {},
   "outputs": [],
   "source": [
    "# 回归是估计输入数据与连续输出数据之间关系的过程。数据通常是实数形式的，我们的目标是估计满足输入到输出映射关系的基本函数。\n",
    "# 线性回归的目标是提取输入变量与输出变量的关联线性模型，这就要求实际输出与线性方程预测的输出的的残差平方和最小化。\n",
    "# 残差平方和（sum of squares of differences)，这种方法被称为普通最小二乘法（Ordinary Least Squares，OLS）\n",
    "\n",
    "# 先准备一些数据点\n",
    "\n",
    "lines = [\n",
    "    '1,1.1',\n",
    "    '1.1,1.02',\n",
    "    '1.15,1.3',\n",
    "    '1.4,1.4',\n",
    "    '1.45,1.5',\n",
    "    '1.6,1.45',\n",
    "    '1.7,1.7',\n",
    "    '1.8,1.9',\n",
    "    '2.1,2.0',\n",
    "    '2.21,2.2',\n",
    "    '2.5,2.6',\n",
    "    '2.7,2.8',\n",
    "    '2.77,2.76',\n",
    "    '2.78,2.99',\n",
    "    '3.1,3.11',\n",
    "    '3.22,3.5',\n",
    "    '3.33,3.3',\n",
    "    '3.36,3.4',\n",
    "    '3.6,3.9',\n",
    "    '4.1,4.2',\n",
    "    '4.3,4.4',\n",
    "    '4.6,4.7',\n",
    "    '4.65,4.66',\n",
    "    '4.67,4.9',\n",
    "    '5.1,4.99',\n",
    "    '5.3,5.01',\n",
    "    '5.41,5.5',\n",
    "    '5.5,5.5',\n",
    "    '5.6,5.66',\n",
    "    '5.7,5.8',\n",
    "    '5.9,6.0'\n",
    "]"
   ]
  },
  {
   "cell_type": "code",
   "execution_count": 3,
   "metadata": {},
   "outputs": [],
   "source": [
    "import sys\n",
    "import numpy as np\n",
    "X = []\n",
    "y = []\n",
    "\n",
    "for line in lines:\n",
    "    xt, yt = [float(i) for i in line.split(',')]\n",
    "    X.append(xt)\n",
    "    y.append(yt)"
   ]
  },
  {
   "cell_type": "code",
   "execution_count": 4,
   "metadata": {},
   "outputs": [],
   "source": [
    "# 建立机器学习模型的时候，需要一种方法来验证模型，检查模型是否达到一定的满意度（satisfactory level）\n",
    "# 为了实现这个验证，我们把数据分成两组：训练数据集（training dataset）与测试数据集（testing dataset）\n",
    "\n",
    "num_training = int(0.8 * len(X))\n",
    "num_test = len(X) - num_training\n",
    "\n",
    "# training dataset\n",
    "X_train = np.array(X[:num_training]).reshape((num_training,1))\n",
    "y_train = np.array(y[:num_training])\n",
    "\n",
    "# testing dataset\n",
    "X_test = np.array(X[num_training:]).reshape((num_test, 1))\n",
    "y_test = np.array(y[num_training:])"
   ]
  },
  {
   "cell_type": "code",
   "execution_count": 5,
   "metadata": {},
   "outputs": [
    {
     "data": {
      "text/plain": "LinearRegression(copy_X=True, fit_intercept=True, n_jobs=1, normalize=False)"
     },
     "execution_count": 5,
     "metadata": {},
     "output_type": "execute_result"
    }
   ],
   "source": [
    "from sklearn import linear_model\n",
    "\n",
    "linear_regressor = linear_model.LinearRegression()\n",
    "linear_regressor.fit(X_train, y_train)"
   ]
  },
  {
   "cell_type": "code",
   "execution_count": 7,
   "metadata": {},
   "outputs": [
    {
     "data": {
      "image/png": "[encoded data removed]",
      "text/plain": "<Figure size 432x288 with 1 Axes>"
     },
     "metadata": {
      "needs_background": "light"
     },
     "output_type": "display_data"
    }
   ],
   "source": [
    "import matplotlib.pyplot as plt\n",
    "\n",
    "y_train_pred = linear_regressor.predict(X_train)\n",
    "plt.figure()\n",
    "plt.scatter(X_train, y_train, color='green')\n",
    "plt.plot(X_train, y_train_pred, color='black', linewidth=4)\n",
    "plt.title('Training data')\n",
    "plt.show()"
   ]
  },
  {
   "cell_type": "code",
   "execution_count": 8,
   "metadata": {},
   "outputs": [
    {
     "data": {
      "image/png": "[encoded data removed]",
      "text/plain": "<Figure size 432x288 with 1 Axes>"
     },
     "metadata": {
      "needs_background": "light"
     },
     "output_type": "display_data"
    }
   ],
   "source": [
    "y_test_pred = linear_regressor.predict(X_test)\n",
    "\n",
    "plt.scatter(X_test, y_test, color='green')\n",
    "plt.plot(X_test, y_test_pred, color='black', linewidth=4)\n",
    "plt.show()"
   ]
  },
  {
   "cell_type": "code",
   "execution_count": 9,
   "metadata": {},
   "outputs": [
    {
     "name": "stdout",
     "output_type": "stream",
     "text": "Mean absolute error = 0.17\nMean squared error = 0.05\nMedian absolute error = 0.11\nExplained variance score = 0.87\nR2 score = 0.62\n"
    }
   ],
   "source": [
    "# 衡量回归器好坏的指标\n",
    "\n",
    "import sklearn.metrics as sm\n",
    "\n",
    "print(\"Mean absolute error =\", round(sm.mean_absolute_error(y_test, y_test_pred), 2))\n",
    "print(\"Mean squared error =\", round(sm.mean_squared_error(y_test, y_test_pred), 2))\n",
    "print(\"Median absolute error =\", round(sm.median_absolute_error(y_test, y_test_pred), 2))\n",
    "print(\"Explained variance score =\", round(sm.explained_variance_score(y_test, y_test_pred), 2))\n",
    "print(\"R2 score =\", round(sm.r2_score(y_test, y_test_pred), 2))"
   ]
  },
  {
   "cell_type": "code",
   "execution_count": 13,
   "metadata": {},
   "outputs": [],
   "source": [
    "# 将模型保存成文件\n",
    "\n",
    "import pickle\n",
    "\n",
    "output_model_file = 'saved_model.pkl'\n",
    "with open(output_model_file, 'wb') as f:\n",
    "    pickle.dump(linear_regressor, f)"
   ]
  },
  {
   "cell_type": "code",
   "execution_count": 15,
   "metadata": {},
   "outputs": [
    {
     "name": "stdout",
     "output_type": "stream",
     "text": "\nNew mean absolute error = 0.17\n"
    }
   ],
   "source": [
    "# 从文件加载模型\n",
    "\n",
    "import pickle\n",
    "\n",
    "with open(output_model_file, 'rb') as f:\n",
    "    model_linregr = pickle.load(f)\n",
    "\n",
    "y_test_pred_new = model_linregr.predict(X_test)\n",
    "print(\"\\nNew mean absolute error =\", round(sm.mean_absolute_error(y_test, y_test_pred_new), 2))"
   ]
  }
 ]
}