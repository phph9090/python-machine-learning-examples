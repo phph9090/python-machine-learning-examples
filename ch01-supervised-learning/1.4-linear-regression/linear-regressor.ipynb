{
 "nbformat": 4,
 "nbformat_minor": 2,
 "metadata": {
  "language_info": {
   "name": "python",
   "codemirror_mode": {
    "name": "ipython",
    "version": 3
   },
   "version": "3.7.4-final"
  },
  "orig_nbformat": 2,
  "file_extension": ".py",
  "mimetype": "text/x-python",
  "name": "python",
  "npconvert_exporter": "python",
  "pygments_lexer": "ipython3",
  "version": 3,
  "kernelspec": {
   "name": "python3",
   "display_name": "Python 3"
  }
 },
 "cells": [
  {
   "cell_type": "code",
   "execution_count": 1,
   "metadata": {},
   "outputs": [],
   "source": [
    "# 回归是估计输入数据与连续输出数据之间关系的过程。数据通常是实数形式的，我们的目标是估计满足输入到输出映射关系的基本函数。\n",
    "# 线性回归的目标是提取输入变量与输出变量的关联线性模型，这就要求实际输出与线性方程预测的输出的的残差平方和最小化。\n",
    "# 残差平方和（sum of squares of differences)，这种方法被称为普通最小二乘法（Ordinary Least Squares，OLS）\n",
    "\n",
    "# 先准备一些数据点\n",
    "\n",
    "with open('data_singlevar.txt', 'r') as f:\n",
    "    lines = f.readlines()"
   ]
  },
  {
   "cell_type": "code",
   "execution_count": 2,
   "metadata": {},
   "outputs": [],
   "source": [
    "import sys\n",
    "import numpy as np\n",
    "X = []\n",
    "y = []\n",
    "\n",
    "for line in lines:\n",
    "    xt, yt = [float(i) for i in line.split(',')]\n",
    "    X.append(xt)\n",
    "    y.append(yt)"
   ]
  },
  {
   "cell_type": "code",
   "execution_count": 3,
   "metadata": {},
   "outputs": [],
   "source": [
    "# 建立机器学习模型的时候，需要一种方法来验证模型，检查模型是否达到一定的满意度（satisfactory level）\n",
    "# 为了实现这个验证，我们把数据分成两组：训练数据集（training dataset）与测试数据集（testing dataset）\n",
    "\n",
    "num_training = int(0.8 * len(X))\n",
    "num_test = len(X) - num_training\n",
    "\n",
    "# training dataset\n",
    "X_train = np.array(X[:num_training]).reshape((num_training,1))\n",
    "y_train = np.array(y[:num_training])\n",
    "\n",
    "# testing dataset\n",
    "X_test = np.array(X[num_training:]).reshape((num_test, 1))\n",
    "y_test = np.array(y[num_training:])"
   ]
  },
  {
   "cell_type": "code",
   "execution_count": 4,
   "metadata": {},
   "outputs": [
    {
     "data": {
      "text/plain": "LinearRegression(copy_X=True, fit_intercept=True, n_jobs=None, normalize=False)"
     },
     "execution_count": 4,
     "metadata": {},
     "output_type": "execute_result"
    }
   ],
   "source": [
    "from sklearn import linear_model\n",
    "\n",
    "linear_regressor = linear_model.LinearRegression()\n",
    "linear_regressor.fit(X_train, y_train)"
   ]
  },
  {
   "cell_type": "code",
   "execution_count": 7,
   "metadata": {},
   "outputs": [
    {
     "data": {
      "image/png": "[encoded data removed]",
      "text/plain": "<Figure size 432x288 with 1 Axes>"
     },
     "metadata": {
      "needs_background": "light"
     },
     "output_type": "display_data"
    }
   ],
   "source": [
    "import matplotlib.pyplot as plt\n",
    "\n",
    "y_train_pred = linear_regressor.predict(X_train)\n",
    "plt.figure()\n",
    "plt.scatter(X_train, y_train, color='green')\n",
    "plt.plot(X_train, y_train_pred, color='black', linewidth=4)\n",
    "plt.title('Training data')\n",
    "plt.show()"
   ]
  },
  {
   "cell_type": "code",
   "execution_count": 6,
   "metadata": {},
   "outputs": [
    {
     "data": {
      "image/png": "[encoded data removed]",
      "text/plain": "<Figure size 432x288 with 1 Axes>"
     },
     "metadata": {
      "needs_background": "light"
     },
     "output_type": "display_data"
    }
   ],
   "source": [
    "y_test_pred = linear_regressor.predict(X_test)\n",
    "\n",
    "plt.scatter(X_test, y_test, color='green')\n",
    "plt.plot(X_test, y_test_pred, color='black', linewidth=4)\n",
    "plt.show()"
   ]
  },
  {
   "cell_type": "code",
   "execution_count": 8,
   "metadata": {},
   "outputs": [
    {
     "name": "stdout",
     "output_type": "stream",
     "text": "Mean absolute error = 0.54\nMean squared error = 0.38\nMedian absolute error = 0.54\nExplained variance score = 0.68\nR2 score = 0.68\n"
    }
   ],
   "source": [
    "# 衡量回归器好坏的指标\n",
    "# 平均绝对误差（mean absolute error）\n",
    "#   这是给定数据集的所有数据点的绝对误差的平均值\n",
    "# 均方误差（mean squared error)\n",
    "#   这是给定数据集的所有数据点的误差的平方的平均值\n",
    "# 中位数绝对误差（median absolute error）\n",
    "#   这是给定数据集的所有数据点的误差的中位数。这个指标的主要优点是可以消除异常值的干扰。\n",
    "#   测试数据中的单个坏点不会影响整个误差指标，均值误差指标会受到异常点的影响\n",
    "# 解释方差分数（explained variance score）\n",
    "#   这个分数用于衡量模型对数据集波动的解释能力，如果得分为1.0分，则表明模型是完美的\n",
    "# R方得分（R2 score）\n",
    "#   指确定性相关系数，用于衡量模型对未知样本的预测效果，最好的得分是1.0，其值也可能是负数\n",
    "\n",
    "import sklearn.metrics as sm\n",
    "\n",
    "print(\"Mean absolute error =\", round(sm.mean_absolute_error(y_test, y_test_pred), 2))\n",
    "print(\"Mean squared error =\", round(sm.mean_squared_error(y_test, y_test_pred), 2))\n",
    "print(\"Median absolute error =\", round(sm.median_absolute_error(y_test, y_test_pred), 2))\n",
    "print(\"Explained variance score =\", round(sm.explained_variance_score(y_test, y_test_pred), 2))\n",
    "print(\"R2 score =\", round(sm.r2_score(y_test, y_test_pred), 2))"
   ]
  },
  {
   "cell_type": "code",
   "execution_count": 9,
   "metadata": {},
   "outputs": [],
   "source": [
    "# 将模型保存成文件\n",
    "\n",
    "import pickle\n",
    "\n",
    "output_model_file = 'saved_model.pkl'\n",
    "with open(output_model_file, 'wb') as f:\n",
    "    pickle.dump(linear_regressor, f)"
   ]
  },
  {
   "cell_type": "code",
   "execution_count": 10,
   "metadata": {},
   "outputs": [
    {
     "name": "stdout",
     "output_type": "stream",
     "text": "\nNew mean absolute error = 0.54\n"
    }
   ],
   "source": [
    "# 从文件加载模型\n",
    "\n",
    "import pickle\n",
    "\n",
    "with open(output_model_file, 'rb') as f:\n",
    "    model_linregr = pickle.load(f)\n",
    "\n",
    "y_test_pred_new = model_linregr.predict(X_test)\n",
    "print(\"\\nNew mean absolute error =\", round(sm.mean_absolute_error(y_test, y_test_pred_new), 2))"
   ]
  }
 ]
}