{
 "nbformat": 4,
 "nbformat_minor": 2,
 "metadata": {
  "language_info": {
   "name": "python",
   "codemirror_mode": {
    "name": "ipython",
    "version": 3
   },
   "version": "3.7.4-final"
  },
  "orig_nbformat": 2,
  "file_extension": ".py",
  "mimetype": "text/x-python",
  "name": "python",
  "npconvert_exporter": "python",
  "pygments_lexer": "ipython3",
  "version": 3,
  "kernelspec": {
   "name": "python3",
   "display_name": "Python 3"
  }
 },
 "cells": [
  {
   "cell_type": "code",
   "execution_count": 1,
   "metadata": {},
   "outputs": [],
   "source": [
    "# 对于线性回归来说，主要的问题是对异常值太敏感，但是在现实当中，异常值经常出现\n",
    "# 异常值通常会使线性回归的效果大打折扣\n",
    "# 所以可以使用岭回归来消除削弱异常值的影响\n",
    "\n",
    "# 准备一些数据\n",
    "\n",
    "with open('data_multivar.txt', 'r') as f:\n",
    "    lines = f.readlines()"
   ]
  },
  {
   "cell_type": "code",
   "execution_count": 2,
   "metadata": {},
   "outputs": [
    {
     "name": "stdout",
     "output_type": "stream",
     "text": "Mean absolute error = 3.95\nMean squared error = 23.15\nMedian absolute error = 3.69\nExplained variance score = 0.84\nR2 score = 0.83\n"
    }
   ],
   "source": [
    "# 先创建一个线性回归器\n",
    "\n",
    "from sklearn import linear_model\n",
    "import numpy as np\n",
    "\n",
    "X = []\n",
    "y = []\n",
    "\n",
    "for line in lines:\n",
    "    data = [float(i) for i in line.split(',')]\n",
    "    X.append(data[:-1])\n",
    "    y.append(data[-1])\n",
    "\n",
    "num_training = int(0.8 * len(X))\n",
    "num_test = len(X) - num_training\n",
    "\n",
    "X_train = np.array(X[:num_training])\n",
    "y_train = np.array(y[:num_training])\n",
    "\n",
    "X_test = np.array(X[num_training:])\n",
    "y_test = np.array(y[num_training:])\n",
    "\n",
    "linregr = linear_model.LinearRegression()\n",
    "linregr.fit(X_train, y_train)\n",
    "\n",
    "y_test_pred = linregr.predict(X_test)\n",
    "\n",
    "import sklearn.metrics as sm\n",
    "\n",
    "print(\"Linear\")\n",
    "print(\"Mean absolute error =\", round(sm.mean_absolute_error(y_test, y_test_pred), 2))\n",
    "print(\"Mean squared error =\", round(sm.mean_squared_error(y_test, y_test_pred), 2))\n",
    "print(\"Median absolute error =\", round(sm.median_absolute_error(y_test, y_test_pred), 2))\n",
    "print(\"Explained variance score =\", round(sm.explained_variance_score(y_test, y_test_pred), 2))\n",
    "print(\"R2 score =\", round(sm.r2_score(y_test, y_test_pred), 2))"
   ]
  },
  {
   "cell_type": "code",
   "execution_count": 3,
   "metadata": {},
   "outputs": [
    {
     "name": "stdout",
     "output_type": "stream",
     "text": "Mean absolute error = 3.95\nMean squared error = 23.15\nMedian absolute error = 3.69\nExplained variance score = 0.84\nR2 score = 0.83\n"
    }
   ],
   "source": [
    "# 创建岭回归器\n",
    "\n",
    "ridge_regressor = linear_model.Ridge(alpha=0.01, fit_intercept=True, max_iter=10000)\n",
    "ridge_regressor.fit(X_train, y_train)\n",
    "\n",
    "y_test_pred_ridge = ridge_regressor.predict(X_test)\n",
    "\n",
    "print(\"Ridge\")\n",
    "print(\"Mean absolute error =\", round(sm.mean_absolute_error(y_test, y_test_pred_ridge), 2))\n",
    "print(\"Mean squared error =\", round(sm.mean_squared_error(y_test, y_test_pred_ridge), 2))\n",
    "print(\"Median absolute error =\", round(sm.median_absolute_error(y_test, y_test_pred_ridge), 2))\n",
    "print(\"Explained variance score =\", round(sm.explained_variance_score(y_test, y_test_pred_ridge), 2))\n",
    "print(\"R2 score =\", round(sm.r2_score(y_test, y_test_pred_ridge), 2))"
   ]
  }
 ]
}