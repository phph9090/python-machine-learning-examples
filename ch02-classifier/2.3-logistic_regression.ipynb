{
 "nbformat": 4,
 "nbformat_minor": 2,
 "metadata": {
  "language_info": {
   "name": "python",
   "codemirror_mode": {
    "name": "ipython",
    "version": 3
   },
   "version": "3.7.0-final"
  },
  "orig_nbformat": 2,
  "file_extension": ".py",
  "mimetype": "text/x-python",
  "name": "python",
  "npconvert_exporter": "python",
  "pygments_lexer": "ipython3",
  "version": 3,
  "kernelspec": {
   "name": "python37064bitb25ed0881bcf4453bea0dc9a3c2dfe73",
   "display_name": "Python 3.7.0 64-bit"
  }
 },
 "cells": [
  {
   "cell_type": "code",
   "execution_count": 4,
   "metadata": {},
   "outputs": [
    {
     "output_type": "display_data",
     "data": {
      "text/plain": "<Figure size 432x288 with 1 Axes>",
      "image/png": "[encoded data removed]"
     },
     "metadata": {
      "needs_background": "light"
     }
    }
   ],
   "source": [
    "# 逻辑回归是一种分类方法，给定给一个数据点，需要建立一个可以在类之间绘制线性边界的模型\n",
    "# 逻辑回归既可以对训练数据派生的一组方程进行求解来提取边界\n",
    "\n",
    "import numpy as np\n",
    "from sklearn import linear_model\n",
    "import matplotlib.pyplot as plt\n",
    "\n",
    "X = np.array([[4,7],[3.5,8],[3.1,6.2],[0.5,1],[1,2],[1.2,1.9],[6,2],[5.7,1.5],[5.4,2.2]])\n",
    "y = np.array([0,0,0,1,1,1,2,2,2])\n",
    "\n",
    "# solver 用于设置求解系统方程的算法类型\n",
    "# C表示正则化强度，数值越小，表示正则化强度越高\n",
    "# C表示的意义是分类错误的惩罚，数据越高，则惩罚越高，边界会得到一些优化\n",
    "classifier = linear_model.LogisticRegression(solver='liblinear', C=10000)\n",
    "\n",
    "# 训练分类器\n",
    "classifier.fit(X, y)\n",
    "\n",
    "def plot_classifier(classifier, X, y):\n",
    "    # 定义图形的取值范围\n",
    "    x_min, x_max = min(X[:,0]) - 1.0, max(X[:,0]) + 1.0\n",
    "    y_min, y_max = min(X[:,1]) - 1.0, max(X[:,1]) + 1.0\n",
    "\n",
    "    # 设置网格数据的步长\n",
    "    step_size = 0.01\n",
    "\n",
    "    # 定义网格\n",
    "    x_values, y_values = np.meshgrid(np.arange(x_min, x_max, step_size), np.arange(y_min, y_max, step_size))\n",
    "\n",
    "    mesh_output = classifier.predict(np.c_[x_values.ravel(), y_values.ravel()])\n",
    "\n",
    "    mesh_output = mesh_output.reshape(x_values.shape)\n",
    "\n",
    "    plt.figure()\n",
    "    plt.pcolormesh(x_values, y_values, mesh_output, cmap=plt.cm.gray)\n",
    "    \n",
    "    plt.scatter(X[:,0], X[:,1], c=y, s=80, edgecolors='black', linewidths=1, cmap=plt.cm.Paired)\n",
    "    plt.xlim(x_values.min(), x_values.max())\n",
    "    plt.ylim(y_values.min(), y_values.max())\n",
    "\n",
    "    plt.xticks((np.arange(int(min(X[:,0])-1), int(max(X[:,0])+1), 1.0)))\n",
    "    plt.yticks((np.arange(int(min(X[:,0])-1), int(max(X[:,0])+1), 1.0)))\n",
    "\n",
    "    plt.show()\n",
    "\n",
    "plot_classifier(classifier, X, y)"
   ]
  },
  {
   "cell_type": "code",
   "execution_count": null,
   "metadata": {},
   "outputs": [],
   "source": []
  }
 ]
}