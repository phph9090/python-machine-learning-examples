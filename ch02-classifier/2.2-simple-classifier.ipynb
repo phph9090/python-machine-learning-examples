{
 "nbformat": 4,
 "nbformat_minor": 2,
 "metadata": {
  "language_info": {
   "name": "python",
   "codemirror_mode": {
    "name": "ipython",
    "version": 3
   },
   "version": "3.7.0-final"
  },
  "orig_nbformat": 2,
  "file_extension": ".py",
  "mimetype": "text/x-python",
  "name": "python",
  "npconvert_exporter": "python",
  "pygments_lexer": "ipython3",
  "version": 3,
  "kernelspec": {
   "name": "python37064bitb25ed0881bcf4453bea0dc9a3c2dfe73",
   "display_name": "Python 3.7.0 64-bit"
  }
 },
 "cells": [
  {
   "cell_type": "code",
   "execution_count": null,
   "metadata": {},
   "outputs": [],
   "source": [
    "# 在机器学习领域，分类是指利用数据的特征将其分成若干类型的过程\n",
    "# 与回归不同，回归的结果是实数\n",
    "# 监督学习分类器就是用带标记的训练数据建立一个模型，然后对未知数进行分类\n",
    "# 分类器可以是实现分类功能的任意算法，最简单的分类器就是简单的数学函数\n",
    "# 可以看到二元分类器（binary），还有多元（multiclass）分类器\n",
    "\n",
    "import numpy as np\n",
    "import matplotlib.pyplot as plt\n",
    "\n",
    "X = np.array([[3,1], [2,5], [1,8], [6,4], [5,2], [3,5], [4,7], [4,-1]])\n",
    "y = [0, 1, 1, 0, 0, 1, 1, 0]\n",
    "\n",
    "class_0 = np.array([X[i] for i in range(len(X)) if y[i] == 0])\n",
    "class_1 = np.array([X[i] for i in range(len(X)) if y[i] == 1])\n",
    "\n",
    "plt.figure()\n",
    "plt.scatter(class_0[:,0], class_0[:,1], color='black', marker='s')\n",
    "plt.scatter(class_1[:,0], class_1[:,1], color='black', marker='x')\n",
    "\n",
    "line_x = range(10)\n",
    "line_y = line_x\n",
    "plt.plot(line_x, line_y, color='black', linewidth=3)\n",
    "\n",
    "plt.show()"
   ]
  }
 ]
}